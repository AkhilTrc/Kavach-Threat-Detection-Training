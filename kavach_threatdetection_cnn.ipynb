{
  "nbformat": 4,
  "nbformat_minor": 0,
  "metadata": {
    "colab": {
      "name": "kavach_threatdetection_cnn.ipynb",
      "provenance": [],
      "collapsed_sections": [
        "VPpcUU6lzG6b",
        "z0Ut9swezyek",
        "G6j5pHdf3lYt",
        "cYLdVuE8H2tZ"
      ],
      "toc_visible": true
    },
    "kernelspec": {
      "name": "python3",
      "display_name": "Python 3"
    },
    "accelerator": "GPU"
  },
  "cells": [
    {
      "cell_type": "markdown",
      "metadata": {
        "id": "FYzaDP8DyyzX"
      },
      "source": [
        "# Libraries and Directory path"
      ]
    },
    {
      "cell_type": "code",
      "metadata": {
        "id": "kF7li9zoRpoI",
        "colab": {
          "base_uri": "https://localhost:8080/"
        },
        "outputId": "3e03f7f7-45ff-4c80-a46e-ac5d5f20223a"
      },
      "source": [
        "from google.colab import drive\n",
        "import pandas as pd\n",
        "import numpy as np\n",
        "from sklearn.preprocessing import (StandardScaler, OrdinalEncoder,LabelEncoder, MinMaxScaler, OneHotEncoder)\n",
        "\n",
        "!pip install -q keras  # Installing Keras\n",
        "\n",
        "from keras.utils import to_categorical\n",
        "from sklearn.naive_bayes import GaussianNB\n",
        "from sklearn.feature_extraction.text import CountVectorizer\n",
        "from sklearn.preprocessing import Normalizer, MaxAbsScaler , RobustScaler, PowerTransformer\n",
        "import matplotlib.pyplot as plt\n",
        "import seaborn as sns\n",
        "\n",
        "# Linking to Google Drive directive containing NSL-KDD Datasets.\n",
        "drive.mount('/content/drive') "
      ],
      "execution_count": 2,
      "outputs": [
        {
          "output_type": "stream",
          "text": [
            "Mounted at /content/drive\n"
          ],
          "name": "stdout"
        }
      ]
    },
    {
      "cell_type": "markdown",
      "metadata": {
        "id": "VPpcUU6lzG6b"
      },
      "source": [
        "# Datasets and Features"
      ]
    },
    {
      "cell_type": "code",
      "metadata": {
        "id": "kQ5Ta1vO2aVe"
      },
      "source": [
        "# train+, test+ and test21- Datasets (csv files) loaded from Google Drive file.\n",
        "train ='/content/drive/My Drive/Projects | R&D/FYP advice papers/NSL-KDD-Dataset/KDDTrain+.txt'\n",
        "test ='/content/drive/My Drive/Projects | R&D/FYP advice papers/NSL-KDD-Dataset/KDDTest+.txt'\n",
        "test21 ='/content/drive/My Drive/Projects | R&D/FYP advice papers/NSL-KDD-Dataset/KDDTest-21.txt'"
      ],
      "execution_count": 3,
      "outputs": []
    },
    {
      "cell_type": "code",
      "metadata": {
        "id": "AYSWHZfRRyG5"
      },
      "source": [
        "# Separating Dataset features and parameters into Dataframes.\n",
        "#\n",
        "# Network packet parameter labels (features).\n",
        "featureV=[\n",
        "  \"duration\",\"protocol_type\",\"service\",\"flag\",\"src_bytes\",\"dst_bytes\",\"land\",\"wrong_fragment\",\"urgent\",\"hot\",\n",
        "  \"num_failed_logins\",\"logged_in\",\"num_compromised\",\"root_shell\",\"su_attempted\",\"num_root\",\"num_file_creations\",\"num_shells\",\n",
        "  \"num_access_files\",\"num_outbound_cmds\",\"is_host_login\",\"is_guest_login\",\"count\",\"srv_count\",\"serror_rate\",\"srv_serror_rate\",\n",
        "  \"rerror_rate\",\"srv_rerror_rate\",\"same_srv_rate\",\"diff_srv_rate\",\"srv_diff_host_rate\",\"dst_host_count\",\"dst_host_srv_count\", \n",
        "  \"dst_host_same_srv_rate\",\"dst_host_diff_srv_rate\",\"dst_host_same_src_port_rate\",\"dst_host_srv_diff_host_rate\",\"dst_host_serror_rate\",\n",
        "  \"dst_host_srv_serror_rate\",\"dst_host_rerror_rate\",\"dst_host_srv_rerror_rate\",\"label\",\"difficulty\"\n",
        "  ]\n",
        "\n",
        "# Network Flag type labels.\n",
        "flagV=['OTH','RSTOS0','SF','SH','RSTO','S2','S1','REJ','S3','RSTR','S0']\n",
        "\n",
        "# Network Protocol type labels.\n",
        "protocol_typeV=['tcp','udp','icmp']\n",
        "\n",
        "# Network Service type labels.\n",
        "serviceV=[\n",
        "  'http','smtp','finger','domain_u','auth','telnet','ftp','eco_i','ntp_u','ecr_i','other','private','pop_3','ftp_data',\n",
        "  'rje','time','mtp','link','remote_job','gopher','ssh','name','whois','domain','login','imap4','daytime','ctf','nntp',\n",
        "  'shell','IRC','nnsp','http_443','exec','printer','efs','courier','uucp','klogin','kshell','echo','discard','systat',\n",
        "  'supdup','iso_tsap','hostnames','csnet_ns','pop_2','sunrpc','uucp_path','netbios_ns','netbios_ssn','netbios_dgm',\n",
        "  'sql_net','vmnet','bgp','Z39_50','ldap','netstat','urh_i','X11','urp_i','pm_dump','tftp_u','tim_i','red_i','icmp',\n",
        "  'http_2784','harvest','aol','http_8001'\n",
        "  ]\n",
        "\n",
        "# Cyber attack type labels for Binary-class Attack.  \n",
        "binary_attack=[\n",
        "  'normal','ipsweep', 'nmap', 'portsweep','satan', 'saint', 'mscan','back', 'land', 'neptune', 'pod', 'smurf',\n",
        "  'teardrop', 'apache2', 'udpstorm', 'processtable','mailbomb','buffer_overflow', 'loadmodule', 'perl', 'rootkit',\n",
        "  'xterm', 'ps', 'sqlattack','ftp_write', 'guess_passwd', 'imap', 'multihop','phf', 'spy', 'warezclient',\n",
        "  'warezmaster','snmpgetattack','named', 'xlock', 'xsnoop','sendmail', 'httptunnel', 'worm', 'snmpguess'\n",
        "  ]\n",
        "\n",
        "# Cyber attack type labels for Multi-class Attack.\n",
        "multiclass_attack={ \n",
        "  'normal': 'normal',\n",
        "  'probe': ['ipsweep.', 'nmap.', 'portsweep.','satan.', 'saint.', 'mscan.'],\n",
        "  'dos': ['back.', 'land.', 'neptune.', 'pod.', 'smurf.','teardrop.', 'apache2.', 'udpstorm.', 'processtable.','mailbomb.'],\n",
        "  'u2r': ['buffer_overflow.', 'loadmodule.', 'perl.', 'rootkit.','xterm.', 'ps.', 'sqlattack.'],\n",
        "  'r2l': ['ftp_write.', 'guess_passwd.', 'imap.', 'multihop.','phf.', 'spy.', 'warezclient.', 'warezmaster.','snmpgetattack.',\n",
        "            'named.', 'xlock.', 'xsnoop.','sendmail.', 'httptunnel.', 'worm.', 'snmpguess.'\n",
        "            ]\n",
        "  }                   "
      ],
      "execution_count": 4,
      "outputs": []
    },
    {
      "cell_type": "code",
      "metadata": {
        "id": "ucmcpiZKdzq3"
      },
      "source": [
        "# Reading Comma-Separated values (csv) file into Panda Dataframe variables\n",
        "# with labeled Axes.\n",
        "#\n",
        "# Training and Testing Dataframes.\n",
        "train_data = pd.read_csv(train, names=featureV)\n",
        "test_data = pd.read_csv(test, names=featureV)\n",
        "\n",
        "# Unseen Testing Dataframes.\n",
        "test_21 = pd.read_csv(test21, names= featureV)"
      ],
      "execution_count": 5,
      "outputs": []
    },
    {
      "cell_type": "code",
      "metadata": {
        "id": "J8-VpMmXtT2Y"
      },
      "source": [
        "# Query Dataframes according to the supplied Query Expressions.\n",
        "#\n",
        "# Remove datapoints with unrequired  service labels fram Train dataframe.\n",
        "train_data = train_data.query(\"service != 'aol'\")\n",
        "train_data = train_data.query(\"service != 'harvest'\")\n",
        "train_data = train_data.query(\"service != 'http_2784'\")\n",
        "train_data = train_data.query(\"service != 'http_8001'\")\n",
        "train_data = train_data.query(\"service != 'red_i'\")\n",
        "train_data = train_data.query(\"service != 'urh_i'\")\n",
        "train_data = train_data.query(\"service != 'printer'\")\n",
        "train_data = train_data.query(\"service != 'rje'\")\n",
        "\n",
        "# Remove datapoints with unrequired  service labels from Test dataframe. \n",
        "test_data = test_data.query(\"service != 'printer'\")\n",
        "test_data = test_data.query(\"service != 'rje'\") "
      ],
      "execution_count": 6,
      "outputs": []
    },
    {
      "cell_type": "markdown",
      "metadata": {
        "id": "z0Ut9swezyek"
      },
      "source": [
        "# Data pre-processing and Validation data"
      ]
    },
    {
      "cell_type": "code",
      "metadata": {
        "id": "i86U5064xJNn"
      },
      "source": [
        "def preprocessing(data,cls,df):\n",
        "  \"\"\"Data pre-processing with Dataframe and Attack classification type\"\"\"\n",
        "  data['label'] = data['label'].replace(['normal.','normal'],0)\n",
        "\n",
        "  if cls=='binary':\n",
        "    \n",
        "    # Change 'binary' label from binary_attack Dataframe to Numeral 1.\n",
        "    for i in range(len(binary_attack)):\n",
        "      data['label'] = data['label'].replace(binary_attack[i], 1)\n",
        "\n",
        "  # Change Multi-class type labels to appropriate numerical notation.\n",
        "  elif cls=='multiclass':\n",
        "\n",
        "    # Change Multi-class type labels; 'probe' to Numeral 1.\n",
        "    for i in range(len(multiclass_attack['probe'])):\n",
        "      data['label'] = data['label'].replace([multiclass_attack['probe'][i],multiclass_attack['probe'][i][:-1]],1)\n",
        "    \n",
        "    # Change Multi-class type labels; 'dos' to Numeral 2.\n",
        "    for i in range(len(multiclass_attack['dos'])):\n",
        "      data['label'] = data['label'].replace([multiclass_attack['dos'][i],multiclass_attack['dos'][i][:-1]],2)\n",
        "    \n",
        "    # Change Multi-class type labels; 'u2r' to Numeral 3.\n",
        "    for i in range(len(multiclass_attack['u2r'])):\n",
        "      data['label'] = data['label'].replace([multiclass_attack['u2r'][i],multiclass_attack['u2r'][i][:-1]],3)\n",
        "    \n",
        "    # Change Multi-class type labels; 'r21' to Numeral 4.\n",
        "    for i in range(len(multiclass_attack['r2l'])):\n",
        "      data['label'] = data['label'].replace([multiclass_attack['r2l'][i],multiclass_attack['r2l'][i][:-1]],4)\n",
        "\n",
        "  y = data['label']\n",
        "  x = data.loc[:,'duration':'hot']\n",
        "\n",
        "  t = x.protocol_type.copy()\n",
        "  t = pd.get_dummies(t)\n",
        "  x = x.drop(columns='protocol_type',axis=1)\n",
        "  x = x.join(t)\n",
        "\n",
        "  t1 = x.service.copy()\n",
        "  t1 = pd.get_dummies(t1)\n",
        "  x = x.drop(columns='service',axis=1)\n",
        "  x = x.join(t1)\n",
        "\n",
        "  t2 = x.flag.copy()\n",
        "  t2 = pd.get_dummies(t2)\n",
        "  x = x.drop(columns='flag',axis=1)\n",
        "  x = x.join(t2)\n",
        "\n",
        "  yt = y.copy()\n",
        "  yt = pd.get_dummies(yt)\n",
        "\n",
        "  x = MinMaxScaler(feature_range=(0, 1)).fit_transform(x)\n",
        "\n",
        "  if df=='train':\n",
        "    return x,yt\n",
        "  else:\n",
        "    return x,y  "
      ],
      "execution_count": 7,
      "outputs": []
    },
    {
      "cell_type": "code",
      "metadata": {
        "id": "pTgGtvCS0nuw"
      },
      "source": [
        "#Pre-process Dataframes\n",
        "#\n",
        "# Pre-process Training set.\n",
        "x_train,Y_train = preprocessing(train_data,cls='binary',df='train')\n",
        "\n",
        "# Pre-process Testing set.\n",
        "x_test,Y_test = preprocessing(test_data,cls='binary',df='test')\n",
        "\n",
        "# Pre-process Useen Testing set.\n",
        "x_21_test, y_21_test = preprocessing(test_21,cls='binary', df='test21')"
      ],
      "execution_count": 8,
      "outputs": []
    },
    {
      "cell_type": "code",
      "metadata": {
        "id": "V8MHi4XfjvLO"
      },
      "source": [
        "# Reshape Dataframes into appropriate Dimensions.\n",
        "#\n",
        "# x_train for Training set, x_test for Testing set,\n",
        "# x_21_test for Unseen Testing set.\n",
        "x_train = np.reshape(x_train, (x_train.shape[0], x_train.shape[1], 1))\n",
        "x_test = np.reshape(x_test, (x_test.shape[0], x_test.shape[1], 1))\n",
        "x_21_test = np.reshape(x_21_test, (x_21_test.shape[0], x_21_test.shape[1], 1))"
      ],
      "execution_count": 9,
      "outputs": []
    },
    {
      "cell_type": "markdown",
      "metadata": {
        "id": "G6j5pHdf3lYt"
      },
      "source": [
        "# Convolutional Neural Network Model"
      ]
    },
    {
      "cell_type": "code",
      "metadata": {
        "id": "Re8nmtgqj7Zw"
      },
      "source": [
        "from keras.models import Sequential\n",
        "from keras.layers import Dense, LSTM, Dropout, SimpleRNN , GRU , Activation\n",
        "from keras.layers.normalization import BatchNormalization\n",
        "from keras import optimizers\n",
        "import tensorflow as tf\n",
        "from keras.layers import Convolution1D, Dense, Dropout, Flatten, MaxPooling1D , AveragePooling1D"
      ],
      "execution_count": 10,
      "outputs": []
    },
    {
      "cell_type": "code",
      "metadata": {
        "id": "PZ2sIwlOkBXt"
      },
      "source": [
        "# Declaring Sequential Model.\n",
        "model = Sequential()\n",
        "\n",
        "# Define Convolutional Network Model to fit Training/Testing Dimensions.\n",
        "#\n",
        "# Padding, Max-Pooling; (ReLu) activation Function; Layer dropout rate at 50 %.\n",
        "model.add(Convolution1D(32, 3, padding=\"same\",activation=\"relu\",input_shape=(x_train.shape[1], 1)))\n",
        "model.add(MaxPooling1D(pool_size=(4)))\n",
        "model.add(Dropout(0.5))\n",
        "#\n",
        "model.add(Convolution1D(64, 3, padding=\"same\",activation=\"relu\"))\n",
        "model.add(MaxPooling1D(pool_size=(2)))\n",
        "model.add(Dropout(0.5))\n",
        "\n",
        "# Vectorize the Convolutional Network.\n",
        "model.add(Flatten())\n",
        "\n",
        "# Enforce Dense Network and Dropout.\n",
        "model.add(Dense(256, activation=\"relu\"))\n",
        "model.add(Dropout(0.5))\n",
        "#\n",
        "# (Softmax) Activation function for Multi-class output.\n",
        "model.add(Dense(2, activation=\"softmax\"))"
      ],
      "execution_count": 11,
      "outputs": []
    },
    {
      "cell_type": "markdown",
      "metadata": {
        "id": "x1W0Iu9SzRtL"
      },
      "source": [
        "# Fitting and Prediction"
      ]
    },
    {
      "cell_type": "code",
      "metadata": {
        "id": "R85Adnd0jjh9"
      },
      "source": [
        "from sklearn.model_selection import cross_validate\n",
        "from sklearn.model_selection import train_test_split"
      ],
      "execution_count": 12,
      "outputs": []
    },
    {
      "cell_type": "code",
      "metadata": {
        "id": "W8IXUK7qkZXT",
        "colab": {
          "base_uri": "https://localhost:8080/"
        },
        "outputId": "d9100d75-85f4-4788-950c-8f6e925bcfb1"
      },
      "source": [
        "# Model Compilation and Fitting.\n",
        "# \n",
        "# (Adam) Optimizer; (Categorical) Crossentropy loss for (Softmax) activation.\n",
        "model.compile(optimizer='adam',loss='categorical_crossentropy', metrics=['accuracy'])\n",
        "#\n",
        "# Fit Model; Train model with train-test split and Cross Validation at batch-size = 128; 100 Epochs.\n",
        "model.fit(x_train, Y_train, epochs=100, batch_size=128)"
      ],
      "execution_count": 13,
      "outputs": [
        {
          "output_type": "stream",
          "text": [
            "Epoch 1/100\n",
            "983/983 [==============================] - 35s 6ms/step - loss: 0.2185 - accuracy: 0.9202\n",
            "Epoch 2/100\n",
            "983/983 [==============================] - 5s 6ms/step - loss: 0.1538 - accuracy: 0.9520\n",
            "Epoch 3/100\n",
            "983/983 [==============================] - 6s 6ms/step - loss: 0.1450 - accuracy: 0.9544\n",
            "Epoch 4/100\n",
            "983/983 [==============================] - 6s 6ms/step - loss: 0.1394 - accuracy: 0.9551\n",
            "Epoch 5/100\n",
            "983/983 [==============================] - 6s 6ms/step - loss: 0.1419 - accuracy: 0.9545\n",
            "Epoch 6/100\n",
            "983/983 [==============================] - 6s 6ms/step - loss: 0.1369 - accuracy: 0.9558\n",
            "Epoch 7/100\n",
            "983/983 [==============================] - 6s 6ms/step - loss: 0.1329 - accuracy: 0.9552\n",
            "Epoch 8/100\n",
            "983/983 [==============================] - 6s 6ms/step - loss: 0.1296 - accuracy: 0.9565\n",
            "Epoch 9/100\n",
            "983/983 [==============================] - 6s 6ms/step - loss: 0.1315 - accuracy: 0.9554\n",
            "Epoch 10/100\n",
            "983/983 [==============================] - 6s 6ms/step - loss: 0.1298 - accuracy: 0.9562\n",
            "Epoch 11/100\n",
            "983/983 [==============================] - 6s 6ms/step - loss: 0.1284 - accuracy: 0.9564\n",
            "Epoch 12/100\n",
            "983/983 [==============================] - 6s 6ms/step - loss: 0.1264 - accuracy: 0.9572\n",
            "Epoch 13/100\n",
            "983/983 [==============================] - 6s 6ms/step - loss: 0.1273 - accuracy: 0.9554\n",
            "Epoch 14/100\n",
            "983/983 [==============================] - 6s 6ms/step - loss: 0.1210 - accuracy: 0.9567\n",
            "Epoch 15/100\n",
            "983/983 [==============================] - 6s 6ms/step - loss: 0.1208 - accuracy: 0.9568\n",
            "Epoch 16/100\n",
            "983/983 [==============================] - 6s 6ms/step - loss: 0.1166 - accuracy: 0.9583\n",
            "Epoch 17/100\n",
            "983/983 [==============================] - 6s 6ms/step - loss: 0.1121 - accuracy: 0.9601\n",
            "Epoch 18/100\n",
            "983/983 [==============================] - 6s 6ms/step - loss: 0.1100 - accuracy: 0.9606\n",
            "Epoch 19/100\n",
            "983/983 [==============================] - 6s 6ms/step - loss: 0.1088 - accuracy: 0.9621\n",
            "Epoch 20/100\n",
            "983/983 [==============================] - 6s 6ms/step - loss: 0.1117 - accuracy: 0.9602\n",
            "Epoch 21/100\n",
            "983/983 [==============================] - 6s 6ms/step - loss: 0.1115 - accuracy: 0.9607\n",
            "Epoch 22/100\n",
            "983/983 [==============================] - 6s 6ms/step - loss: 0.1080 - accuracy: 0.9614\n",
            "Epoch 23/100\n",
            "983/983 [==============================] - 6s 6ms/step - loss: 0.1107 - accuracy: 0.9602\n",
            "Epoch 24/100\n",
            "983/983 [==============================] - 6s 6ms/step - loss: 0.1111 - accuracy: 0.9607\n",
            "Epoch 25/100\n",
            "983/983 [==============================] - 6s 6ms/step - loss: 0.1072 - accuracy: 0.9620\n",
            "Epoch 26/100\n",
            "983/983 [==============================] - 6s 6ms/step - loss: 0.1095 - accuracy: 0.9616\n",
            "Epoch 27/100\n",
            "983/983 [==============================] - 6s 6ms/step - loss: 0.1106 - accuracy: 0.9606\n",
            "Epoch 28/100\n",
            "983/983 [==============================] - 6s 6ms/step - loss: 0.1068 - accuracy: 0.9618\n",
            "Epoch 29/100\n",
            "983/983 [==============================] - 6s 6ms/step - loss: 0.1068 - accuracy: 0.9622\n",
            "Epoch 30/100\n",
            "983/983 [==============================] - 6s 6ms/step - loss: 0.1075 - accuracy: 0.9626\n",
            "Epoch 31/100\n",
            "983/983 [==============================] - 6s 6ms/step - loss: 0.1058 - accuracy: 0.9625\n",
            "Epoch 32/100\n",
            "983/983 [==============================] - 6s 6ms/step - loss: 0.1065 - accuracy: 0.9623\n",
            "Epoch 33/100\n",
            "983/983 [==============================] - 6s 6ms/step - loss: 0.1073 - accuracy: 0.9624\n",
            "Epoch 34/100\n",
            "983/983 [==============================] - 6s 6ms/step - loss: 0.1087 - accuracy: 0.9621\n",
            "Epoch 35/100\n",
            "983/983 [==============================] - 6s 6ms/step - loss: 0.1071 - accuracy: 0.9625\n",
            "Epoch 36/100\n",
            "983/983 [==============================] - 6s 6ms/step - loss: 0.1083 - accuracy: 0.9611\n",
            "Epoch 37/100\n",
            "983/983 [==============================] - 6s 6ms/step - loss: 0.1054 - accuracy: 0.9624\n",
            "Epoch 38/100\n",
            "983/983 [==============================] - 6s 6ms/step - loss: 0.1082 - accuracy: 0.9620\n",
            "Epoch 39/100\n",
            "983/983 [==============================] - 6s 6ms/step - loss: 0.1062 - accuracy: 0.9625\n",
            "Epoch 40/100\n",
            "983/983 [==============================] - 6s 6ms/step - loss: 0.1072 - accuracy: 0.9619\n",
            "Epoch 41/100\n",
            "983/983 [==============================] - 6s 6ms/step - loss: 0.1092 - accuracy: 0.9618\n",
            "Epoch 42/100\n",
            "983/983 [==============================] - 6s 6ms/step - loss: 0.1075 - accuracy: 0.9617\n",
            "Epoch 43/100\n",
            "983/983 [==============================] - 6s 6ms/step - loss: 0.1079 - accuracy: 0.9610\n",
            "Epoch 44/100\n",
            "983/983 [==============================] - 6s 6ms/step - loss: 0.1072 - accuracy: 0.9622\n",
            "Epoch 45/100\n",
            "983/983 [==============================] - 6s 6ms/step - loss: 0.1051 - accuracy: 0.9627\n",
            "Epoch 46/100\n",
            "983/983 [==============================] - 6s 6ms/step - loss: 0.1040 - accuracy: 0.9632\n",
            "Epoch 47/100\n",
            "983/983 [==============================] - 6s 6ms/step - loss: 0.1068 - accuracy: 0.9625\n",
            "Epoch 48/100\n",
            "983/983 [==============================] - 6s 6ms/step - loss: 0.1056 - accuracy: 0.9627\n",
            "Epoch 49/100\n",
            "983/983 [==============================] - 6s 6ms/step - loss: 0.1065 - accuracy: 0.9620\n",
            "Epoch 50/100\n",
            "983/983 [==============================] - 6s 6ms/step - loss: 0.1067 - accuracy: 0.9621\n",
            "Epoch 51/100\n",
            "983/983 [==============================] - 6s 6ms/step - loss: 0.1058 - accuracy: 0.9624\n",
            "Epoch 52/100\n",
            "983/983 [==============================] - 6s 6ms/step - loss: 0.1067 - accuracy: 0.9624\n",
            "Epoch 53/100\n",
            "983/983 [==============================] - 6s 6ms/step - loss: 0.1085 - accuracy: 0.9617\n",
            "Epoch 54/100\n",
            "983/983 [==============================] - 6s 6ms/step - loss: 0.1075 - accuracy: 0.9617\n",
            "Epoch 55/100\n",
            "983/983 [==============================] - 6s 6ms/step - loss: 0.1054 - accuracy: 0.9629\n",
            "Epoch 56/100\n",
            "983/983 [==============================] - 6s 6ms/step - loss: 0.1047 - accuracy: 0.9633\n",
            "Epoch 57/100\n",
            "983/983 [==============================] - 6s 6ms/step - loss: 0.1071 - accuracy: 0.9613\n",
            "Epoch 58/100\n",
            "983/983 [==============================] - 6s 6ms/step - loss: 0.1061 - accuracy: 0.9621\n",
            "Epoch 59/100\n",
            "983/983 [==============================] - 6s 6ms/step - loss: 0.1061 - accuracy: 0.9622\n",
            "Epoch 60/100\n",
            "983/983 [==============================] - 6s 6ms/step - loss: 0.1044 - accuracy: 0.9626\n",
            "Epoch 61/100\n",
            "983/983 [==============================] - 6s 6ms/step - loss: 0.1062 - accuracy: 0.9622\n",
            "Epoch 62/100\n",
            "983/983 [==============================] - 6s 6ms/step - loss: 0.1047 - accuracy: 0.9627\n",
            "Epoch 63/100\n",
            "983/983 [==============================] - 6s 6ms/step - loss: 0.1067 - accuracy: 0.9622\n",
            "Epoch 64/100\n",
            "983/983 [==============================] - 6s 6ms/step - loss: 0.1038 - accuracy: 0.9633\n",
            "Epoch 65/100\n",
            "983/983 [==============================] - 6s 6ms/step - loss: 0.1054 - accuracy: 0.9627\n",
            "Epoch 66/100\n",
            "983/983 [==============================] - 6s 6ms/step - loss: 0.1046 - accuracy: 0.9636\n",
            "Epoch 67/100\n",
            "983/983 [==============================] - 6s 6ms/step - loss: 0.1037 - accuracy: 0.9635\n",
            "Epoch 68/100\n",
            "983/983 [==============================] - 6s 6ms/step - loss: 0.1047 - accuracy: 0.9628\n",
            "Epoch 69/100\n",
            "983/983 [==============================] - 6s 6ms/step - loss: 0.1053 - accuracy: 0.9633\n",
            "Epoch 70/100\n",
            "983/983 [==============================] - 6s 6ms/step - loss: 0.1037 - accuracy: 0.9624\n",
            "Epoch 71/100\n",
            "983/983 [==============================] - 6s 6ms/step - loss: 0.1059 - accuracy: 0.9621\n",
            "Epoch 72/100\n",
            "983/983 [==============================] - 6s 6ms/step - loss: 0.1064 - accuracy: 0.9629\n",
            "Epoch 73/100\n",
            "983/983 [==============================] - 6s 6ms/step - loss: 0.1062 - accuracy: 0.9620\n",
            "Epoch 74/100\n",
            "983/983 [==============================] - 6s 6ms/step - loss: 0.1058 - accuracy: 0.9624\n",
            "Epoch 75/100\n",
            "983/983 [==============================] - 6s 6ms/step - loss: 0.1040 - accuracy: 0.9630\n",
            "Epoch 76/100\n",
            "983/983 [==============================] - 6s 6ms/step - loss: 0.1059 - accuracy: 0.9621\n",
            "Epoch 77/100\n",
            "983/983 [==============================] - 6s 6ms/step - loss: 0.1044 - accuracy: 0.9628\n",
            "Epoch 78/100\n",
            "983/983 [==============================] - 6s 6ms/step - loss: 0.1042 - accuracy: 0.9632\n",
            "Epoch 79/100\n",
            "983/983 [==============================] - 6s 6ms/step - loss: 0.1046 - accuracy: 0.9632\n",
            "Epoch 80/100\n",
            "983/983 [==============================] - 6s 6ms/step - loss: 0.1060 - accuracy: 0.9624\n",
            "Epoch 81/100\n",
            "983/983 [==============================] - 6s 6ms/step - loss: 0.1041 - accuracy: 0.9629\n",
            "Epoch 82/100\n",
            "983/983 [==============================] - 6s 6ms/step - loss: 0.1046 - accuracy: 0.9620\n",
            "Epoch 83/100\n",
            "983/983 [==============================] - 6s 6ms/step - loss: 0.1037 - accuracy: 0.9635\n",
            "Epoch 84/100\n",
            "983/983 [==============================] - 6s 6ms/step - loss: 0.1031 - accuracy: 0.9639\n",
            "Epoch 85/100\n",
            "983/983 [==============================] - 6s 6ms/step - loss: 0.1019 - accuracy: 0.9637\n",
            "Epoch 86/100\n",
            "983/983 [==============================] - 6s 6ms/step - loss: 0.1067 - accuracy: 0.9623\n",
            "Epoch 87/100\n",
            "983/983 [==============================] - 6s 6ms/step - loss: 0.1058 - accuracy: 0.9621\n",
            "Epoch 88/100\n",
            "983/983 [==============================] - 6s 6ms/step - loss: 0.1038 - accuracy: 0.9625\n",
            "Epoch 89/100\n",
            "983/983 [==============================] - 6s 6ms/step - loss: 0.1061 - accuracy: 0.9632\n",
            "Epoch 90/100\n",
            "983/983 [==============================] - 6s 6ms/step - loss: 0.1019 - accuracy: 0.9632\n",
            "Epoch 91/100\n",
            "983/983 [==============================] - 6s 6ms/step - loss: 0.1042 - accuracy: 0.9626\n",
            "Epoch 92/100\n",
            "983/983 [==============================] - 6s 6ms/step - loss: 0.1027 - accuracy: 0.9635\n",
            "Epoch 93/100\n",
            "983/983 [==============================] - 6s 6ms/step - loss: 0.1049 - accuracy: 0.9619\n",
            "Epoch 94/100\n",
            "983/983 [==============================] - 6s 6ms/step - loss: 0.1040 - accuracy: 0.9636\n",
            "Epoch 95/100\n",
            "983/983 [==============================] - 6s 6ms/step - loss: 0.1031 - accuracy: 0.9635\n",
            "Epoch 96/100\n",
            "983/983 [==============================] - 6s 6ms/step - loss: 0.1029 - accuracy: 0.9633\n",
            "Epoch 97/100\n",
            "983/983 [==============================] - 6s 6ms/step - loss: 0.1054 - accuracy: 0.9627\n",
            "Epoch 98/100\n",
            "983/983 [==============================] - 6s 6ms/step - loss: 0.1088 - accuracy: 0.9614\n",
            "Epoch 99/100\n",
            "983/983 [==============================] - 6s 6ms/step - loss: 0.1084 - accuracy: 0.9618\n",
            "Epoch 100/100\n",
            "983/983 [==============================] - 6s 6ms/step - loss: 0.1052 - accuracy: 0.9630\n"
          ],
          "name": "stdout"
        },
        {
          "output_type": "execute_result",
          "data": {
            "text/plain": [
              "<tensorflow.python.keras.callbacks.History at 0x7ff6800d1b10>"
            ]
          },
          "metadata": {
            "tags": []
          },
          "execution_count": 13
        }
      ]
    },
    {
      "cell_type": "markdown",
      "metadata": {
        "id": "bgRz1iWnE3QE"
      },
      "source": [
        "# Output"
      ]
    },
    {
      "cell_type": "code",
      "metadata": {
        "id": "DUIIh9uNkd26"
      },
      "source": [
        "# Perform Prediction.\n",
        "# \n",
        "# Input Network Packet in DataFrame format.\n",
        "# Save output.\n",
        "pred = model.predict(x_test)\n",
        "y_pred = np.argmax(pred, axis=1)\n",
        "#\n",
        "# String labeled output.\n",
        "y_p = ['Malignant' if i==1 else 'Benign' if i==0 else i for i in y_pred]"
      ],
      "execution_count": 14,
      "outputs": []
    },
    {
      "cell_type": "code",
      "metadata": {
        "id": "zuOf7K5nAjzL"
      },
      "source": [
        "# Save output as csv file.\n",
        "output = pd.concat([pd.DataFrame(y_p), pd.DataFrame(y_pred)], axis=1)\n",
        "output.to_csv('pred.csv')"
      ],
      "execution_count": 15,
      "outputs": []
    },
    {
      "cell_type": "markdown",
      "metadata": {
        "id": "cYLdVuE8H2tZ"
      },
      "source": [
        "# Performance Measures"
      ]
    },
    {
      "cell_type": "code",
      "metadata": {
        "id": "GH3llzXYke4V",
        "colab": {
          "base_uri": "https://localhost:8080/"
        },
        "outputId": "8466f4ac-e383-4ee8-f800-4980aade5903"
      },
      "source": [
        "from sklearn.metrics import confusion_matrix,accuracy_score\n",
        "from sklearn.metrics import (precision_score, recall_score,\n",
        "                             f1_score, accuracy_score,mean_squared_error,mean_absolute_error)\n",
        "\n",
        "confusion_matrix(Y_test, y_pred)\n",
        "accuracy = accuracy_score(Y_test, y_pred)*100\n",
        "print(accuracy)\n",
        "print(y_pred)\n",
        "print(y_21_test)\n",
        "\n",
        "pred = model.predict(x_21_test)\n",
        "y_pred= np.argmax(pred, axis = 1)\n",
        "confusion_matrix(y_21_test, y_pred)\n",
        "print(y_pred)\n",
        "\n",
        "acc_21 = accuracy_score(y_21_test, y_pred)* 100\n",
        "print(acc_21)\n",
        "\n",
        "recall = recall_score(y_21_test, y_pred , average=\"binary\")\n",
        "precision = precision_score(y_21_test, y_pred , average=\"binary\")\n",
        "f1 = f1_score(y_21_test, y_pred, average=\"binary\")\n",
        "print(\"F-Score : \", f1*100)\n",
        "print(\"Precision : \" , precision*100)\n",
        "print(\"Recall : \", recall*100)\n",
        "print(\"Accuracy : \",acc_21)"
      ],
      "execution_count": 16,
      "outputs": [
        {
          "output_type": "stream",
          "text": [
            "79.54716981132076\n",
            "[1 1 0 ... 1 0 1]\n",
            "0        1\n",
            "1        1\n",
            "2        1\n",
            "3        0\n",
            "4        1\n",
            "        ..\n",
            "11845    0\n",
            "11846    0\n",
            "11847    1\n",
            "11848    1\n",
            "11849    1\n",
            "Name: label, Length: 11850, dtype: int64\n",
            "[0 1 0 ... 1 1 1]\n",
            "61.45147679324895\n",
            "F-Score :  72.66961828407324\n",
            "Precision :  86.55929304446978\n",
            "Recall :  62.62115900185605\n",
            "Accuracy :  61.45147679324895\n"
          ],
          "name": "stdout"
        }
      ]
    }
  ]
}